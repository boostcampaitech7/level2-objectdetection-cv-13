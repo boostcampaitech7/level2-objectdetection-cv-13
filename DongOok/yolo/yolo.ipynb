{
 "cells": [
  {
   "cell_type": "markdown",
   "metadata": {},
   "source": [
    "#### 라이브러리 import"
   ]
  },
  {
   "cell_type": "code",
   "execution_count": null,
   "metadata": {
    "vscode": {
     "languageId": "plaintext"
    }
   },
   "outputs": [],
   "source": [
    "import ultralytics\n",
    "from ultralytics import YOLO\n",
    "from ultralytics.data.converter import convert_coco\n",
    "import pandas as pd\n",
    "import os"
   ]
  },
  {
   "cell_type": "markdown",
   "metadata": {},
   "source": [
    "#### COCO형식을 YOLO형식으로 변환\n",
    "- (x_min, y_min, w, h) -> (x_center, y_centre, w, h)\n",
    "- 각 이미지마다 annotation정보가 {save_dir}/labels라는 폴더에 txt파일로 저장됩니다."
   ]
  },
  {
   "cell_type": "code",
   "execution_count": null,
   "metadata": {
    "vscode": {
     "languageId": "plaintext"
    }
   },
   "outputs": [],
   "source": [
    "convert_coco(\n",
    "    labels_dir = '/data/ephemeral/datasets/annotations',\n",
    "    save_dir = '/data/ephemeral/coco2yolo',\n",
    "    use_keypoints= False,\n",
    "    use_segments= False,\n",
    "    cls91to80 = False,\n",
    "    lvis = False\n",
    ")"
   ]
  },
  {
   "cell_type": "markdown",
   "metadata": {},
   "source": [
    "#### 사용할 모델 선정"
   ]
  },
  {
   "cell_type": "code",
   "execution_count": null,
   "metadata": {
    "vscode": {
     "languageId": "plaintext"
    }
   },
   "outputs": [],
   "source": [
    "model_name = 'yolo11x'"
   ]
  },
  {
   "cell_type": "markdown",
   "metadata": {},
   "source": [
    "#### 모델 및 pretrain된 가중치 불러오기"
   ]
  },
  {
   "cell_type": "code",
   "execution_count": null,
   "metadata": {
    "vscode": {
     "languageId": "plaintext"
    }
   },
   "outputs": [],
   "source": [
    "model = YOLO(f\"{model_name}.yaml\").load(f\"{model_name}.pt\")"
   ]
  },
  {
   "cell_type": "markdown",
   "metadata": {},
   "source": [
    "#### 모델 빌드 및 하이퍼 파라미터 설정\n",
    "- 배치사이즈, Epoch, 디바이스, 옵티마이저 및 여러 하이퍼 파라미터 등을 지정할 수 있습니다.\n",
    "- 추가적으로 밝기, 기울이기, Mosaic, Flip, Mix up 등 다양한 증강의 사용여부와 확률을 지정할 수 있습니다."
   ]
  },
  {
   "cell_type": "code",
   "execution_count": null,
   "metadata": {
    "vscode": {
     "languageId": "plaintext"
    }
   },
   "outputs": [],
   "source": [
    "train_results = model.train(\n",
    "    data = \"/data/ephemeral/home/coco2yolo/rc_trash.yaml\",\n",
    "    batch=2,\n",
    "    epochs=50,  \n",
    "    imgsz=1280,  \n",
    "    device=0,\n",
    "    optimizer='SGD',\n",
    "    lr0=0.001,\n",
    "    lrf=0.01,\n",
    "    momentum=0.9,\n",
    "    weight_decay=0.0005,\n",
    "    warmup_epochs=5,\n",
    "    project='yolo',\n",
    "    name=f'{model_name}'\n",
    ")"
   ]
  },
  {
   "cell_type": "markdown",
   "metadata": {},
   "source": [
    "#### 학습 후 가장 성능이 좋았던 pt파일 불러오기"
   ]
  },
  {
   "cell_type": "code",
   "execution_count": null,
   "metadata": {
    "vscode": {
     "languageId": "plaintext"
    }
   },
   "outputs": [],
   "source": [
    "pred_model = YOLO(\"/data/ephemeral/home/yolo/yolo11x/weights/best.pt\")"
   ]
  },
  {
   "cell_type": "markdown",
   "metadata": {
    "vscode": {
     "languageId": "plaintext"
    }
   },
   "source": [
    "#### Test 데이터 예측\n",
    "- confidence score, IoU, TTA 사용 여부, amp 사용 여부를 predict 메서드의 인자로 지정할 수 있습니다.\n",
    "- 결과를 어떤 파일로 저장할지와 어떤 결과들을 저장할지도 지정 할 수 있습니다.\n",
    "- Predict의 결과들은 각 이미지별로 txt파일로 runs/detect 폴더 안에 저장됩니다."
   ]
  },
  {
   "cell_type": "code",
   "execution_count": null,
   "metadata": {
    "vscode": {
     "languageId": "plaintext"
    }
   },
   "outputs": [],
   "source": [
    "test_results = pred_model.predict(\n",
    "    source=\"/data/ephemeral/home/coco2yolo/images/test\",  \n",
    "    imgsz=1280,\n",
    "    augment = True,\n",
    "    save = True,\n",
    "    save_txt = True,\n",
    "    save_conf = True,\n",
    "    half = True\n",
    ")"
   ]
  },
  {
   "cell_type": "markdown",
   "metadata": {},
   "source": [
    "#### Submission 형태로 변환\n",
    "- YOLO의 prediction 결과가 (x_center, y_center, w, h)로 나오기에 Pascal Voc 형식으로 변경해주어야 합니다."
   ]
  },
  {
   "cell_type": "code",
   "execution_count": null,
   "metadata": {
    "vscode": {
     "languageId": "plaintext"
    }
   },
   "outputs": [],
   "source": [
    "submission = pd.DataFrame()\n",
    "\n",
    "prediction_strings = []\n",
    "file_names = []\n",
    "\n",
    "txt_dir = '/data/ephemeral/home/runs/detect/predict/labels'\n",
    "txt_files = sorted([f for f in os.listdir(txt_dir) if f.endswith('.txt')])\n",
    "\n",
    "img_width, img_height = 1024, 1024\n",
    "\n",
    "for txt_file in txt_files:\n",
    "    txt_path = os.path.join(txt_dir, txt_file)\n",
    "    prediction_by_image = []\n",
    "    \n",
    "    with open(txt_path, 'r') as f:\n",
    "        lines = f.readlines()\n",
    "        for line in lines:\n",
    "            a = line.strip().split()\n",
    "            \n",
    "            cls = int(a[0])\n",
    "            conf = float(a[-1])\n",
    "            \n",
    "            center_x = float(a[1]) * img_width\n",
    "            center_y = float(a[2]) * img_height\n",
    "            width = float(a[3]) * img_width\n",
    "            height = float(a[4]) * img_height\n",
    "            \n",
    "            xmin = float(center_x - width / 2)\n",
    "            ymin = float(center_y - height / 2)\n",
    "            xmax = float(center_x + width / 2)\n",
    "            ymax = float(center_y + height / 2)\n",
    "            \n",
    "            prediction_by_image.append(f\"{cls} {conf} {xmin} {ymin} {xmax} {ymax}\")\n",
    "\n",
    "    prediction_string = ' '.join(prediction_by_image)\n",
    "    file_name = f\"test/{txt_file.replace('.txt', '.jpg')}\"\n",
    "    \n",
    "    prediction_strings.append(prediction_string)\n",
    "    file_names.append(file_name)\n",
    "\n",
    "submission['PredictionString'] = prediction_strings\n",
    "submission['image_id'] = file_names\n",
    "\n",
    "submission.to_csv(os.path.join('/data/ephemeral/home/submission', 'yolo11x.csv'), index=None)\n",
    "\n",
    "submission.head(3)\n"
   ]
  }
 ],
 "metadata": {
  "language_info": {
   "name": "python"
  }
 },
 "nbformat": 4,
 "nbformat_minor": 2
}
